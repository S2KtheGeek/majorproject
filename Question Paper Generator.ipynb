{
 "cells": [
  {
   "cell_type": "code",
   "execution_count": 1,
   "metadata": {},
   "outputs": [],
   "source": [
    "import pandas as pd\n",
    "import random"
   ]
  },
  {
   "cell_type": "code",
   "execution_count": 3,
   "metadata": {},
   "outputs": [],
   "source": [
    "def count_marks(total_marks_of_module, counts): \n",
    "    marks = [5, 3, 1] \n",
    "    Count = {}\n",
    "      \n",
    "    for i in marks: \n",
    "        if total_marks_of_module > 0:\n",
    "            #i = 2 if i == 1 else i\n",
    "            j = (total_marks_of_module // i) \n",
    "            #i = 1 if i == 2 else i\n",
    "            j = j if j < counts[marks.index(i)] else counts[marks.index(i)]\n",
    "            total_marks_of_module = total_marks_of_module - (j * i)\n",
    "            Count.update({i : j})\n",
    "            \n",
    "    for i in marks: \n",
    "        if i not in list(Count.keys()):\n",
    "            Count.update({i : 0})\n",
    "    \n",
    "    return Count"
   ]
  },
  {
   "cell_type": "code",
   "execution_count": 4,
   "metadata": {},
   "outputs": [],
   "source": [
    "def question_to_list(df, difficulty, mark):\n",
    "    questions = df.loc[df['LEVEL OF DIFFICULTY (Easy,Medium,Difficult)'] == difficulty]\n",
    "    mark_questions = questions.loc[questions['MARKS'] == mark]\n",
    "    mark_questions_list = mark_questions['QUESTIONS'].tolist()\n",
    "    return mark_questions_list"
   ]
  },
  {
   "cell_type": "code",
   "execution_count": 5,
   "metadata": {},
   "outputs": [],
   "source": [
    "def generate_questions(df, difficulty_type, total_marks_of_type):\n",
    "    dict_of_selected_questions = {}\n",
    "    \n",
    "    five_mark = question_to_list(df, difficulty_type, 5)\n",
    "    three_mark = question_to_list(df, difficulty_type, 3)\n",
    "    one_mark = question_to_list(df, difficulty_type, 1)\n",
    "    counts = [len(five_mark), len(three_mark), len(one_mark)]\n",
    "        \n",
    "    dict_of_marks = count_marks(total_marks_of_type, counts)\n",
    "    \n",
    "    marks = list(dict_of_marks.keys())\n",
    "    no_of_questions = list(dict_of_marks.values())\n",
    "    \n",
    "    total_after_calc = [marks[i]*no_of_questions[i] for i in range(len(marks))]\n",
    "    \n",
    "    if sum(total_after_calc) == total_marks_of_type:\n",
    "        questions_selected = random.sample(five_mark, k=no_of_questions[0])\n",
    "        dict_of_selected_questions.update({ i : 5 for i in questions_selected })\n",
    "        questions_selected = random.sample(three_mark, k=no_of_questions[1])\n",
    "        dict_of_selected_questions.update({ i : 3 for i in questions_selected })\n",
    "        questions_selected = random.sample(one_mark, k=no_of_questions[2])\n",
    "        dict_of_selected_questions.update({ i : 1 for i in questions_selected })\n",
    "    else:\n",
    "        dict_of_selected_questions.update({'Error please re-enter as the provided marks and total questions marks do not match': 404})\n",
    "     \n",
    "    return dict_of_selected_questions"
   ]
  },
  {
   "cell_type": "code",
   "execution_count": 7,
   "metadata": {},
   "outputs": [],
   "source": [
    "def generate_question_paper(module_number, module_name, total_marks, difficult, moderate, easy):\n",
    "    \n",
    "    df = pd.read_csv('/home/s2k_thegeek/Desktop/FORAMT.csv')\n",
    "    df = df[['SL.NO', 'CHAPTER', 'QUESTIONS', 'MARKS', 'LEVEL OF DIFFICULTY (Easy,Medium,Difficult)']]\n",
    "    \n",
    "    list_of_questions_for_paper = []\n",
    "    if (easy + moderate + difficult) == total_marks:\n",
    "        new_df = df.loc[df['CHAPTER'] == module_name]\n",
    "        list_of_questions_for_paper.append(generate_questions(new_df, 'EASY', easy))\n",
    "        list_of_questions_for_paper.append(generate_questions(new_df, 'MODERATE', moderate))\n",
    "        list_of_questions_for_paper.append(generate_questions(new_df, 'DIFFICULT', difficult))\n",
    "    else:\n",
    "        list_of_questions_for_paper.append({'Error please re-enter as the provided total marks and total of difficulty of marks do not match': 404})\n",
    "    \n",
    "    return list_of_questions_for_paper"
   ]
  },
  {
   "cell_type": "code",
   "execution_count": 9,
   "metadata": {},
   "outputs": [
    {
     "data": {
      "text/plain": [
       "[{'Give a brief description about any five members of the Constituent Assembly.': 5,\n",
       "  'Which countries constitutional features inspired Indian constitution makers?': 3,\n",
       "  'What is the unusual achievement of our constitution?  ': 1},\n",
       " {'Explain the importance of institutional design of the Constitution of India.': 5,\n",
       "  'Question 87. Explain how did the white minority and the black majority agree to draw up a common constitution for South Africa.': 5,\n",
       "  'What are Constituent Assembly Debates? ': 3,\n",
       "  'What is a draft? ': 1},\n",
       " {'Assess the contribution made by Constituent Assembly to form the Indian Constitution.  The following were the contributions made by the Constituent Assembly to form the Indian Constitution.': 5,\n",
       "  'Why is constitution of India acceptable to Indians even today?  ': 3,\n",
       "  'Question 39. What advantages did Indian constitution makers have unlike South Africa? ': 1}]"
      ]
     },
     "execution_count": 9,
     "metadata": {},
     "output_type": "execute_result"
    }
   ],
   "source": [
    "module_number = 1\n",
    "module_name = 'CONSTITUTIONAL DESIGN'\n",
    "total_marks = 32\n",
    "difficult = 9\n",
    "moderate = 14\n",
    "easy = 9\n",
    "generate_question_paper(module_number, module_name, total_marks, difficult, moderate, easy)"
   ]
  },
  {
   "cell_type": "code",
   "execution_count": null,
   "metadata": {},
   "outputs": [],
   "source": []
  }
 ],
 "metadata": {
  "kernelspec": {
   "display_name": "Python 3",
   "language": "python",
   "name": "python3"
  },
  "language_info": {
   "codemirror_mode": {
    "name": "ipython",
    "version": 3
   },
   "file_extension": ".py",
   "mimetype": "text/x-python",
   "name": "python",
   "nbconvert_exporter": "python",
   "pygments_lexer": "ipython3",
   "version": "3.7.3"
  }
 },
 "nbformat": 4,
 "nbformat_minor": 2
}
